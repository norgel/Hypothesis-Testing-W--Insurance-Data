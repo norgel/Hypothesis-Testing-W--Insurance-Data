{
 "cells": [
  {
   "cell_type": "code",
   "execution_count": 1,
   "id": "880da1a3",
   "metadata": {},
   "outputs": [],
   "source": [
    "# Import Libraries\n",
    "# Main Libraries\n",
    "import pandas as pd\n",
    "import numpy as np\n",
    "\n",
    "# Viz Libraries\n",
    "import seaborn as sns\n",
    "import matplotlib.pyplot as plt\n",
    "import scipy.stats as stats"
   ]
  },
  {
   "cell_type": "markdown",
   "id": "16cb8984",
   "metadata": {},
   "source": [
    "## Questions To Answer:\n",
    "- Q1. Do smokers have higher insurance charges than non-smokers?\n",
    "- Q2. Are men more likely to smoke than women?\n",
    "- Q3. Do different regions have different charges, on average?\n",
    "\n",
    "---\n",
    "For each question, make sure to:\n",
    "\n",
    "State your Null Hypothesis and Alternative Hypothesis\n",
    "Select the correct test according to the data type and number of samples\n",
    "Test the assumptions of your selected test.\n",
    "Execute the selected test, or the alternative test (if you do not meet the assumptions)\n",
    "Interpret your p-value and reject or fail to reject your null hypothesis \n",
    "Show a supporting visualization that helps display the result\n"
   ]
  },
  {
   "cell_type": "code",
   "execution_count": 2,
   "id": "6c190576",
   "metadata": {},
   "outputs": [
    {
     "data": {
      "text/html": [
       "<div>\n",
       "<style scoped>\n",
       "    .dataframe tbody tr th:only-of-type {\n",
       "        vertical-align: middle;\n",
       "    }\n",
       "\n",
       "    .dataframe tbody tr th {\n",
       "        vertical-align: top;\n",
       "    }\n",
       "\n",
       "    .dataframe thead th {\n",
       "        text-align: right;\n",
       "    }\n",
       "</style>\n",
       "<table border=\"1\" class=\"dataframe\">\n",
       "  <thead>\n",
       "    <tr style=\"text-align: right;\">\n",
       "      <th></th>\n",
       "      <th>age</th>\n",
       "      <th>sex</th>\n",
       "      <th>bmi</th>\n",
       "      <th>children</th>\n",
       "      <th>smoker</th>\n",
       "      <th>region</th>\n",
       "      <th>charges</th>\n",
       "    </tr>\n",
       "  </thead>\n",
       "  <tbody>\n",
       "    <tr>\n",
       "      <th>0</th>\n",
       "      <td>19</td>\n",
       "      <td>female</td>\n",
       "      <td>27.900</td>\n",
       "      <td>0</td>\n",
       "      <td>yes</td>\n",
       "      <td>southwest</td>\n",
       "      <td>16884.92400</td>\n",
       "    </tr>\n",
       "    <tr>\n",
       "      <th>1</th>\n",
       "      <td>18</td>\n",
       "      <td>male</td>\n",
       "      <td>33.770</td>\n",
       "      <td>1</td>\n",
       "      <td>no</td>\n",
       "      <td>southeast</td>\n",
       "      <td>1725.55230</td>\n",
       "    </tr>\n",
       "    <tr>\n",
       "      <th>2</th>\n",
       "      <td>28</td>\n",
       "      <td>male</td>\n",
       "      <td>33.000</td>\n",
       "      <td>3</td>\n",
       "      <td>no</td>\n",
       "      <td>southeast</td>\n",
       "      <td>4449.46200</td>\n",
       "    </tr>\n",
       "    <tr>\n",
       "      <th>3</th>\n",
       "      <td>33</td>\n",
       "      <td>male</td>\n",
       "      <td>22.705</td>\n",
       "      <td>0</td>\n",
       "      <td>no</td>\n",
       "      <td>northwest</td>\n",
       "      <td>21984.47061</td>\n",
       "    </tr>\n",
       "    <tr>\n",
       "      <th>4</th>\n",
       "      <td>32</td>\n",
       "      <td>male</td>\n",
       "      <td>28.880</td>\n",
       "      <td>0</td>\n",
       "      <td>no</td>\n",
       "      <td>northwest</td>\n",
       "      <td>3866.85520</td>\n",
       "    </tr>\n",
       "  </tbody>\n",
       "</table>\n",
       "</div>"
      ],
      "text/plain": [
       "   age     sex     bmi  children smoker     region      charges\n",
       "0   19  female  27.900         0    yes  southwest  16884.92400\n",
       "1   18    male  33.770         1     no  southeast   1725.55230\n",
       "2   28    male  33.000         3     no  southeast   4449.46200\n",
       "3   33    male  22.705         0     no  northwest  21984.47061\n",
       "4   32    male  28.880         0     no  northwest   3866.85520"
      ]
     },
     "execution_count": 2,
     "metadata": {},
     "output_type": "execute_result"
    }
   ],
   "source": [
    "# Load df insurance data\n",
    "df = pd.read_csv('Data/insurance.csv')\n",
    "df.head()"
   ]
  },
  {
   "cell_type": "markdown",
   "id": "98220edc",
   "metadata": {},
   "source": [
    "# Q1. Do smokers have higher insurance chargers than non-smokers?\n",
    "\n",
    "1. - Null Hypothesis: There is **no difference** between insurance costs for smokers and non-smokers. \n",
    "\n",
    "   - Alt. Hypothesis: There **is a difference** between insurance costs between smokers and non-smokers."
   ]
  },
  {
   "cell_type": "code",
   "execution_count": 3,
   "id": "7e5249f4",
   "metadata": {},
   "outputs": [],
   "source": [
    "# Create two different tables, one for confirmed smokers & charges, \n",
    "# & one for non-smokers with charges"
   ]
  },
  {
   "cell_type": "code",
   "execution_count": 4,
   "id": "2ee415ef",
   "metadata": {
    "scrolled": true
   },
   "outputs": [
    {
     "data": {
      "text/html": [
       "<div>\n",
       "<style scoped>\n",
       "    .dataframe tbody tr th:only-of-type {\n",
       "        vertical-align: middle;\n",
       "    }\n",
       "\n",
       "    .dataframe tbody tr th {\n",
       "        vertical-align: top;\n",
       "    }\n",
       "\n",
       "    .dataframe thead th {\n",
       "        text-align: right;\n",
       "    }\n",
       "</style>\n",
       "<table border=\"1\" class=\"dataframe\">\n",
       "  <thead>\n",
       "    <tr style=\"text-align: right;\">\n",
       "      <th></th>\n",
       "      <th>smoker</th>\n",
       "      <th>charges</th>\n",
       "    </tr>\n",
       "  </thead>\n",
       "  <tbody>\n",
       "    <tr>\n",
       "      <th>0</th>\n",
       "      <td>yes</td>\n",
       "      <td>16884.9240</td>\n",
       "    </tr>\n",
       "    <tr>\n",
       "      <th>11</th>\n",
       "      <td>yes</td>\n",
       "      <td>27808.7251</td>\n",
       "    </tr>\n",
       "    <tr>\n",
       "      <th>14</th>\n",
       "      <td>yes</td>\n",
       "      <td>39611.7577</td>\n",
       "    </tr>\n",
       "    <tr>\n",
       "      <th>19</th>\n",
       "      <td>yes</td>\n",
       "      <td>36837.4670</td>\n",
       "    </tr>\n",
       "    <tr>\n",
       "      <th>23</th>\n",
       "      <td>yes</td>\n",
       "      <td>37701.8768</td>\n",
       "    </tr>\n",
       "  </tbody>\n",
       "</table>\n",
       "</div>"
      ],
      "text/plain": [
       "   smoker     charges\n",
       "0     yes  16884.9240\n",
       "11    yes  27808.7251\n",
       "14    yes  39611.7577\n",
       "19    yes  36837.4670\n",
       "23    yes  37701.8768"
      ]
     },
     "execution_count": 4,
     "metadata": {},
     "output_type": "execute_result"
    }
   ],
   "source": [
    "# Only target columns smoker and charges for this question\n",
    "is_smoker = df.loc[df['smoker']=='yes', ['smoker', 'charges']]\n",
    "is_smoker.head()"
   ]
  },
  {
   "cell_type": "code",
   "execution_count": 5,
   "id": "20f7bdfb",
   "metadata": {
    "scrolled": true
   },
   "outputs": [
    {
     "data": {
      "text/html": [
       "<div>\n",
       "<style scoped>\n",
       "    .dataframe tbody tr th:only-of-type {\n",
       "        vertical-align: middle;\n",
       "    }\n",
       "\n",
       "    .dataframe tbody tr th {\n",
       "        vertical-align: top;\n",
       "    }\n",
       "\n",
       "    .dataframe thead th {\n",
       "        text-align: right;\n",
       "    }\n",
       "</style>\n",
       "<table border=\"1\" class=\"dataframe\">\n",
       "  <thead>\n",
       "    <tr style=\"text-align: right;\">\n",
       "      <th></th>\n",
       "      <th>smoker</th>\n",
       "      <th>charges</th>\n",
       "    </tr>\n",
       "  </thead>\n",
       "  <tbody>\n",
       "    <tr>\n",
       "      <th>1</th>\n",
       "      <td>no</td>\n",
       "      <td>1725.55230</td>\n",
       "    </tr>\n",
       "    <tr>\n",
       "      <th>2</th>\n",
       "      <td>no</td>\n",
       "      <td>4449.46200</td>\n",
       "    </tr>\n",
       "    <tr>\n",
       "      <th>3</th>\n",
       "      <td>no</td>\n",
       "      <td>21984.47061</td>\n",
       "    </tr>\n",
       "    <tr>\n",
       "      <th>4</th>\n",
       "      <td>no</td>\n",
       "      <td>3866.85520</td>\n",
       "    </tr>\n",
       "    <tr>\n",
       "      <th>5</th>\n",
       "      <td>no</td>\n",
       "      <td>3756.62160</td>\n",
       "    </tr>\n",
       "  </tbody>\n",
       "</table>\n",
       "</div>"
      ],
      "text/plain": [
       "  smoker      charges\n",
       "1     no   1725.55230\n",
       "2     no   4449.46200\n",
       "3     no  21984.47061\n",
       "4     no   3866.85520\n",
       "5     no   3756.62160"
      ]
     },
     "execution_count": 5,
     "metadata": {},
     "output_type": "execute_result"
    }
   ],
   "source": [
    "non_smoker = df.loc[df['smoker']=='no', ['smoker', 'charges']]\n",
    "non_smoker.head()"
   ]
  },
  {
   "cell_type": "code",
   "execution_count": 6,
   "id": "c2a49b2b",
   "metadata": {},
   "outputs": [
    {
     "data": {
      "text/html": [
       "<div>\n",
       "<style scoped>\n",
       "    .dataframe tbody tr th:only-of-type {\n",
       "        vertical-align: middle;\n",
       "    }\n",
       "\n",
       "    .dataframe tbody tr th {\n",
       "        vertical-align: top;\n",
       "    }\n",
       "\n",
       "    .dataframe thead th {\n",
       "        text-align: right;\n",
       "    }\n",
       "</style>\n",
       "<table border=\"1\" class=\"dataframe\">\n",
       "  <thead>\n",
       "    <tr style=\"text-align: right;\">\n",
       "      <th></th>\n",
       "      <th>smoker</th>\n",
       "      <th>charges</th>\n",
       "    </tr>\n",
       "  </thead>\n",
       "  <tbody>\n",
       "    <tr>\n",
       "      <th>0</th>\n",
       "      <td>yes</td>\n",
       "      <td>16884.9240</td>\n",
       "    </tr>\n",
       "    <tr>\n",
       "      <th>11</th>\n",
       "      <td>yes</td>\n",
       "      <td>27808.7251</td>\n",
       "    </tr>\n",
       "    <tr>\n",
       "      <th>14</th>\n",
       "      <td>yes</td>\n",
       "      <td>39611.7577</td>\n",
       "    </tr>\n",
       "    <tr>\n",
       "      <th>19</th>\n",
       "      <td>yes</td>\n",
       "      <td>36837.4670</td>\n",
       "    </tr>\n",
       "    <tr>\n",
       "      <th>23</th>\n",
       "      <td>yes</td>\n",
       "      <td>37701.8768</td>\n",
       "    </tr>\n",
       "    <tr>\n",
       "      <th>...</th>\n",
       "      <td>...</td>\n",
       "      <td>...</td>\n",
       "    </tr>\n",
       "    <tr>\n",
       "      <th>1332</th>\n",
       "      <td>no</td>\n",
       "      <td>11411.6850</td>\n",
       "    </tr>\n",
       "    <tr>\n",
       "      <th>1333</th>\n",
       "      <td>no</td>\n",
       "      <td>10600.5483</td>\n",
       "    </tr>\n",
       "    <tr>\n",
       "      <th>1334</th>\n",
       "      <td>no</td>\n",
       "      <td>2205.9808</td>\n",
       "    </tr>\n",
       "    <tr>\n",
       "      <th>1335</th>\n",
       "      <td>no</td>\n",
       "      <td>1629.8335</td>\n",
       "    </tr>\n",
       "    <tr>\n",
       "      <th>1336</th>\n",
       "      <td>no</td>\n",
       "      <td>2007.9450</td>\n",
       "    </tr>\n",
       "  </tbody>\n",
       "</table>\n",
       "<p>1338 rows × 2 columns</p>\n",
       "</div>"
      ],
      "text/plain": [
       "     smoker     charges\n",
       "0       yes  16884.9240\n",
       "11      yes  27808.7251\n",
       "14      yes  39611.7577\n",
       "19      yes  36837.4670\n",
       "23      yes  37701.8768\n",
       "...     ...         ...\n",
       "1332     no  11411.6850\n",
       "1333     no  10600.5483\n",
       "1334     no   2205.9808\n",
       "1335     no   1629.8335\n",
       "1336     no   2007.9450\n",
       "\n",
       "[1338 rows x 2 columns]"
      ]
     },
     "execution_count": 6,
     "metadata": {},
     "output_type": "execute_result"
    }
   ],
   "source": [
    "# create visualization plot for smoker vs non-smoker\n",
    "viz_df = pd.concat([is_smoker, non_smoker])\n",
    "viz_df"
   ]
  },
  {
   "cell_type": "code",
   "execution_count": 10,
   "id": "ad174c63",
   "metadata": {},
   "outputs": [
    {
     "data": {
      "image/png": "[encoded data removed]",
      "text/plain": [
       "<Figure size 640x480 with 1 Axes>"
      ]
     },
     "metadata": {},
     "output_type": "display_data"
    }
   ],
   "source": [
    "# Create visualization comparing charges for insurance between smokers and non-smokers\n",
    "sns.barplot(data=viz_df, x='smoker', y='charges', errorbar=('ci', 68));"
   ]
  },
  {
   "cell_type": "code",
   "execution_count": 11,
   "id": "39879580",
   "metadata": {},
   "outputs": [
    {
     "data": {
      "text/plain": [
       "274"
      ]
     },
     "execution_count": 11,
     "metadata": {},
     "output_type": "execute_result"
    }
   ],
   "source": [
    "# find length of values for both smokers and non-smokers\n",
    "len(is_smoker)"
   ]
  },
  {
   "cell_type": "code",
   "execution_count": 12,
   "id": "f44e29e4",
   "metadata": {},
   "outputs": [
    {
     "data": {
      "text/plain": [
       "1064"
      ]
     },
     "execution_count": 12,
     "metadata": {},
     "output_type": "execute_result"
    }
   ],
   "source": [
    "len(non_smoker)"
   ]
  },
  {
   "cell_type": "code",
   "execution_count": 13,
   "id": "99d960ab",
   "metadata": {},
   "outputs": [
    {
     "data": {
      "text/plain": [
       "0"
      ]
     },
     "metadata": {},
     "output_type": "display_data"
    },
    {
     "data": {
      "text/plain": [
       "24"
      ]
     },
     "metadata": {},
     "output_type": "display_data"
    }
   ],
   "source": [
    "# test for any outliers in data using groups\n",
    "smoker_group = is_smoker['charges']\n",
    "non_smoker_group = non_smoker['charges']\n",
    "\n",
    "smoker_group_outliers = np.abs(stats.zscore(smoker_group)) > 3\n",
    "non_smoker_group_outliers = np.abs(stats.zscore(non_smoker_group)) > 3\n",
    "\n",
    "# display both outliers for each group\n",
    "display(smoker_group_outliers.sum(), non_smoker_group_outliers.sum())"
   ]
  },
  {
   "cell_type": "markdown",
   "id": "a952d094",
   "metadata": {},
   "source": [
    "Outliers for **smoker_group** : 0\n",
    "\n",
    "Outliers for **non_smoker_group** : 24"
   ]
  },
  {
   "cell_type": "code",
   "execution_count": 14,
   "id": "a67a8baf",
   "metadata": {},
   "outputs": [],
   "source": [
    "# remove outliers for the non_smoker_group\n",
    "non_smoker_group = non_smoker_group.loc[~non_smoker_group_outliers]"
   ]
  },
  {
   "cell_type": "markdown",
   "id": "ae4bd0f4",
   "metadata": {},
   "source": [
    "### Check for normality, pvalue, variance, etc."
   ]
  },
  {
   "cell_type": "code",
   "execution_count": 22,
   "id": "ffa40a62",
   "metadata": {},
   "outputs": [
    {
     "name": "stdout",
     "output_type": "stream",
     "text": [
      "LeveneResult(statistic=520.7468821724297, pvalue=2.4247238784347824e-97)\n",
      "No equal variance between both groups\n"
     ]
    }
   ],
   "source": [
    "normality_results = stats.levene(smoker_group, non_smoker_group)\n",
    "print(normality_results)\n",
    "if normality_results.pvalue < 0.05:\n",
    "    print(\"No equal variance between both groups\")\n",
    "else:\n",
    "    print(\"Equal variance between both groups\")"
   ]
  },
  {
   "cell_type": "markdown",
   "id": "ae534095",
   "metadata": {},
   "source": [
    "#### Run a Welch's T-Test to check final hypothesis"
   ]
  },
  {
   "cell_type": "code",
   "execution_count": 23,
   "id": "a9232526",
   "metadata": {},
   "outputs": [
    {
     "name": "stdout",
     "output_type": "stream",
     "text": [
      "Ttest_indResult(statistic=33.732305987092516, pvalue=2.575322662587431e-104)\n"
     ]
    },
    {
     "data": {
      "text/plain": [
       "True"
      ]
     },
     "execution_count": 23,
     "metadata": {},
     "output_type": "execute_result"
    }
   ],
   "source": [
    "final_results = stats.ttest_ind(smoker_group, non_smoker_group, equal_var=False)\n",
    "print(final_results)\n",
    "final_results.pvalue < 0.05"
   ]
  },
  {
   "cell_type": "markdown",
   "id": "4923697d",
   "metadata": {},
   "source": [
    "## Q1: Final Result\n",
    "Based on the p_value for the final result being **< 0.05**, we can officially reject the null hypothesis and fail to reject the alternative hypothesis.\n",
    "\n",
    "- Our answer to Question 1 is:\n",
    "\n",
    "Alt. Hypothesis: There is a difference between insurance costs between smokers and non-smokers.\n",
    "    "
   ]
  },
  {
   "cell_type": "markdown",
   "id": "d271d9ce",
   "metadata": {},
   "source": [
    "# Q2: Are men more likely to smoke than women?\n",
    "\n",
    "---\n",
    "\n",
    "**Null Hypothesis**: There is no difference between the likelihood of men/women smoking habits.\n",
    "\n",
    "**Alt. Hypothesis**: There is a difference of smoking habits between men and women.\n",
    "\n",
    "---\n",
    "\n",
    "There are **4** sample groups to account for: each gender (male/female) and smoking habits (yes/no)"
   ]
  },
  {
   "cell_type": "code",
   "execution_count": 27,
   "id": "25bab424",
   "metadata": {},
   "outputs": [
    {
     "data": {
      "text/html": [
       "<div>\n",
       "<style scoped>\n",
       "    .dataframe tbody tr th:only-of-type {\n",
       "        vertical-align: middle;\n",
       "    }\n",
       "\n",
       "    .dataframe tbody tr th {\n",
       "        vertical-align: top;\n",
       "    }\n",
       "\n",
       "    .dataframe thead th {\n",
       "        text-align: right;\n",
       "    }\n",
       "</style>\n",
       "<table border=\"1\" class=\"dataframe\">\n",
       "  <thead>\n",
       "    <tr style=\"text-align: right;\">\n",
       "      <th></th>\n",
       "      <th>sex</th>\n",
       "      <th>smoker</th>\n",
       "    </tr>\n",
       "  </thead>\n",
       "  <tbody>\n",
       "    <tr>\n",
       "      <th>1</th>\n",
       "      <td>male</td>\n",
       "      <td>no</td>\n",
       "    </tr>\n",
       "    <tr>\n",
       "      <th>2</th>\n",
       "      <td>male</td>\n",
       "      <td>no</td>\n",
       "    </tr>\n",
       "    <tr>\n",
       "      <th>3</th>\n",
       "      <td>male</td>\n",
       "      <td>no</td>\n",
       "    </tr>\n",
       "    <tr>\n",
       "      <th>4</th>\n",
       "      <td>male</td>\n",
       "      <td>no</td>\n",
       "    </tr>\n",
       "    <tr>\n",
       "      <th>8</th>\n",
       "      <td>male</td>\n",
       "      <td>no</td>\n",
       "    </tr>\n",
       "    <tr>\n",
       "      <th>10</th>\n",
       "      <td>male</td>\n",
       "      <td>no</td>\n",
       "    </tr>\n",
       "    <tr>\n",
       "      <th>12</th>\n",
       "      <td>male</td>\n",
       "      <td>no</td>\n",
       "    </tr>\n",
       "    <tr>\n",
       "      <th>14</th>\n",
       "      <td>male</td>\n",
       "      <td>yes</td>\n",
       "    </tr>\n",
       "    <tr>\n",
       "      <th>15</th>\n",
       "      <td>male</td>\n",
       "      <td>no</td>\n",
       "    </tr>\n",
       "    <tr>\n",
       "      <th>17</th>\n",
       "      <td>male</td>\n",
       "      <td>no</td>\n",
       "    </tr>\n",
       "  </tbody>\n",
       "</table>\n",
       "</div>"
      ],
      "text/plain": [
       "     sex smoker\n",
       "1   male     no\n",
       "2   male     no\n",
       "3   male     no\n",
       "4   male     no\n",
       "8   male     no\n",
       "10  male     no\n",
       "12  male     no\n",
       "14  male    yes\n",
       "15  male     no\n",
       "17  male     no"
      ]
     },
     "execution_count": 27,
     "metadata": {},
     "output_type": "execute_result"
    }
   ],
   "source": [
    "# create male gender smoker groups\n",
    "male_group = df.loc[df['sex']=='male', ['sex', 'smoker']]\n",
    "male_group.head(10)\n",
    "\n",
    "#created group for males that both smoke and don't smoke"
   ]
  },
  {
   "cell_type": "code",
   "execution_count": 28,
   "id": "990b3dda",
   "metadata": {},
   "outputs": [
    {
     "data": {
      "text/html": [
       "<div>\n",
       "<style scoped>\n",
       "    .dataframe tbody tr th:only-of-type {\n",
       "        vertical-align: middle;\n",
       "    }\n",
       "\n",
       "    .dataframe tbody tr th {\n",
       "        vertical-align: top;\n",
       "    }\n",
       "\n",
       "    .dataframe thead th {\n",
       "        text-align: right;\n",
       "    }\n",
       "</style>\n",
       "<table border=\"1\" class=\"dataframe\">\n",
       "  <thead>\n",
       "    <tr style=\"text-align: right;\">\n",
       "      <th></th>\n",
       "      <th>sex</th>\n",
       "      <th>smoker</th>\n",
       "    </tr>\n",
       "  </thead>\n",
       "  <tbody>\n",
       "    <tr>\n",
       "      <th>0</th>\n",
       "      <td>female</td>\n",
       "      <td>yes</td>\n",
       "    </tr>\n",
       "    <tr>\n",
       "      <th>5</th>\n",
       "      <td>female</td>\n",
       "      <td>no</td>\n",
       "    </tr>\n",
       "    <tr>\n",
       "      <th>6</th>\n",
       "      <td>female</td>\n",
       "      <td>no</td>\n",
       "    </tr>\n",
       "    <tr>\n",
       "      <th>7</th>\n",
       "      <td>female</td>\n",
       "      <td>no</td>\n",
       "    </tr>\n",
       "    <tr>\n",
       "      <th>9</th>\n",
       "      <td>female</td>\n",
       "      <td>no</td>\n",
       "    </tr>\n",
       "    <tr>\n",
       "      <th>11</th>\n",
       "      <td>female</td>\n",
       "      <td>yes</td>\n",
       "    </tr>\n",
       "    <tr>\n",
       "      <th>13</th>\n",
       "      <td>female</td>\n",
       "      <td>no</td>\n",
       "    </tr>\n",
       "    <tr>\n",
       "      <th>16</th>\n",
       "      <td>female</td>\n",
       "      <td>no</td>\n",
       "    </tr>\n",
       "    <tr>\n",
       "      <th>20</th>\n",
       "      <td>female</td>\n",
       "      <td>no</td>\n",
       "    </tr>\n",
       "    <tr>\n",
       "      <th>21</th>\n",
       "      <td>female</td>\n",
       "      <td>no</td>\n",
       "    </tr>\n",
       "  </tbody>\n",
       "</table>\n",
       "</div>"
      ],
      "text/plain": [
       "       sex smoker\n",
       "0   female    yes\n",
       "5   female     no\n",
       "6   female     no\n",
       "7   female     no\n",
       "9   female     no\n",
       "11  female    yes\n",
       "13  female     no\n",
       "16  female     no\n",
       "20  female     no\n",
       "21  female     no"
      ]
     },
     "execution_count": 28,
     "metadata": {},
     "output_type": "execute_result"
    }
   ],
   "source": [
    "## create female gender smoker groups\n",
    "female_group = df.loc[df['sex']=='female', ['sex', 'smoker']]\n",
    "female_group.head(10)"
   ]
  },
  {
   "cell_type": "code",
   "execution_count": 31,
   "id": "eea5ed3c",
   "metadata": {},
   "outputs": [
    {
     "data": {
      "image/png": "[encoded data removed]",
      "text/plain": [
       "<Figure size 640x480 with 1 Axes>"
      ]
     },
     "metadata": {},
     "output_type": "display_data"
    }
   ],
   "source": [
    "## Create a countplot to show all 4 sample groups\n",
    "ax = sns.countplot(data = df, x='sex', hue='smoker')\n",
    "ax.set_title('Smoking Habits For Each Gender');"
   ]
  },
  {
   "cell_type": "markdown",
   "id": "5c7d4fb9",
   "metadata": {},
   "source": [
    "Since there are more than 2 sample groups, and it is categorical data that is being used. A chi-test is needed which requires a contingency table."
   ]
  },
  {
   "cell_type": "code",
   "execution_count": 33,
   "id": "7b85eaaf",
   "metadata": {},
   "outputs": [
    {
     "data": {
      "text/html": [
       "<div>\n",
       "<style scoped>\n",
       "    .dataframe tbody tr th:only-of-type {\n",
       "        vertical-align: middle;\n",
       "    }\n",
       "\n",
       "    .dataframe tbody tr th {\n",
       "        vertical-align: top;\n",
       "    }\n",
       "\n",
       "    .dataframe thead th {\n",
       "        text-align: right;\n",
       "    }\n",
       "</style>\n",
       "<table border=\"1\" class=\"dataframe\">\n",
       "  <thead>\n",
       "    <tr style=\"text-align: right;\">\n",
       "      <th>smoker</th>\n",
       "      <th>no</th>\n",
       "      <th>yes</th>\n",
       "    </tr>\n",
       "    <tr>\n",
       "      <th>sex</th>\n",
       "      <th></th>\n",
       "      <th></th>\n",
       "    </tr>\n",
       "  </thead>\n",
       "  <tbody>\n",
       "    <tr>\n",
       "      <th>female</th>\n",
       "      <td>547</td>\n",
       "      <td>115</td>\n",
       "    </tr>\n",
       "    <tr>\n",
       "      <th>male</th>\n",
       "      <td>517</td>\n",
       "      <td>159</td>\n",
       "    </tr>\n",
       "  </tbody>\n",
       "</table>\n",
       "</div>"
      ],
      "text/plain": [
       "smoker   no  yes\n",
       "sex             \n",
       "female  547  115\n",
       "male    517  159"
      ]
     },
     "execution_count": 33,
     "metadata": {},
     "output_type": "execute_result"
    }
   ],
   "source": [
    "contingency_table = pd.crosstab(df['sex'],df['smoker'])\n",
    "contingency_table"
   ]
  },
  {
   "cell_type": "code",
   "execution_count": 35,
   "id": "7cfe155f",
   "metadata": {},
   "outputs": [],
   "source": [
    "# run the chi-test with the created contingency_table\n",
    "final_result = stats.chi2_contingency(contingency_table)\n",
    "chi2, p, deg_free, expected_vals = final_result # this labels the results"
   ]
  },
  {
   "cell_type": "code",
   "execution_count": 36,
   "id": "92a72450",
   "metadata": {},
   "outputs": [
    {
     "name": "stdout",
     "output_type": "stream",
     "text": [
      "0.006548143503580696\n"
     ]
    },
    {
     "data": {
      "text/plain": [
       "True"
      ]
     },
     "execution_count": 36,
     "metadata": {},
     "output_type": "execute_result"
    }
   ],
   "source": [
    "print(p)\n",
    "p<0.05"
   ]
  },
  {
   "cell_type": "markdown",
   "id": "baebecb2",
   "metadata": {},
   "source": [
    "## Q2 Final Results:\n",
    "\n",
    "The p-value on the chi-test was **less than 0.05** so we can fail to reject the alternative hypothesis.\n",
    "\n",
    "**Alt. Hypothesis**: There is a difference of smoking habits between men and women.\n",
    "\n",
    "\n",
    "\n"
   ]
  },
  {
   "cell_type": "markdown",
   "id": "4533a24c",
   "metadata": {},
   "source": [
    "# Q3. Do different regions have different charges, on average?\n",
    "\n",
    "---\n",
    "\n",
    "- Numerical Data\n",
    "- Multiple Sample Groups\n",
    "\n",
    "---\n",
    "\n",
    "**Null Hypothesis**: No charge difference based on regions.\n",
    "\n",
    "**Alt. Hypothesis**: Is a difference between charges based on regions."
   ]
  },
  {
   "cell_type": "code",
   "execution_count": 37,
   "id": "d2a1091f",
   "metadata": {},
   "outputs": [
    {
     "data": {
      "text/plain": [
       "dict_keys(['southwest', 'southeast', 'northwest', 'northeast'])"
      ]
     },
     "execution_count": 37,
     "metadata": {},
     "output_type": "execute_result"
    }
   ],
   "source": [
    "# seperate into groups\n",
    "groups = {}\n",
    "for region in df['region'].unique():\n",
    "    region_charge_df = df.loc[df['region']==region, 'charges']\n",
    "    groups[region] = region_charge_df\n",
    "groups.keys()"
   ]
  },
  {
   "cell_type": "code",
   "execution_count": 39,
   "id": "3a7ee436",
   "metadata": {},
   "outputs": [
    {
     "data": {
      "image/png": "[encoded data removed]",
      "text/plain": [
       "<Figure size 640x480 with 1 Axes>"
      ]
     },
     "metadata": {},
     "output_type": "display_data"
    }
   ],
   "source": [
    "# Create a barplot with the seperated groups based on regions\n",
    "sns.barplot(data = df, x='region', y='charges', errorbar=None);"
   ]
  },
  {
   "cell_type": "code",
   "execution_count": 40,
   "id": "05ef20a7",
   "metadata": {},
   "outputs": [
    {
     "name": "stdout",
     "output_type": "stream",
     "text": [
      "8 outliers were removed from the southwest group\n",
      "2 outliers were removed from the southeast group\n",
      "7 outliers were removed from the northwest group\n",
      "4 outliers were removed from the northeast group\n"
     ]
    }
   ],
   "source": [
    "# find and remove outliers\n",
    "for region, data in groups.items():\n",
    "    outliers = np.abs(stats.zscore(data)) > 3\n",
    "    print(f'{outliers.sum()} outliers were removed from the {region} group')\n",
    "    groups[region] = data.loc[~outliers]"
   ]
  },
  {
   "cell_type": "code",
   "execution_count": 41,
   "id": "f9fce8d9",
   "metadata": {},
   "outputs": [],
   "source": [
    "# test for normality\n",
    "results = {}\n",
    "for i, data in groups.items():\n",
    "    stat, p = stats.normaltest(data)\n",
    "    results[i] = {'n':len(data),\n",
    "                 'p':p}"
   ]
  },
  {
   "cell_type": "code",
   "execution_count": 43,
   "id": "4fd9cad4",
   "metadata": {
    "scrolled": true
   },
   "outputs": [
    {
     "data": {
      "text/html": [
       "<div>\n",
       "<style scoped>\n",
       "    .dataframe tbody tr th:only-of-type {\n",
       "        vertical-align: middle;\n",
       "    }\n",
       "\n",
       "    .dataframe tbody tr th {\n",
       "        vertical-align: top;\n",
       "    }\n",
       "\n",
       "    .dataframe thead th {\n",
       "        text-align: right;\n",
       "    }\n",
       "</style>\n",
       "<table border=\"1\" class=\"dataframe\">\n",
       "  <thead>\n",
       "    <tr style=\"text-align: right;\">\n",
       "      <th></th>\n",
       "      <th>n</th>\n",
       "      <th>p</th>\n",
       "    </tr>\n",
       "  </thead>\n",
       "  <tbody>\n",
       "    <tr>\n",
       "      <th>southwest</th>\n",
       "      <td>317.0</td>\n",
       "      <td>7.728611e-22</td>\n",
       "    </tr>\n",
       "    <tr>\n",
       "      <th>southeast</th>\n",
       "      <td>362.0</td>\n",
       "      <td>1.936990e-13</td>\n",
       "    </tr>\n",
       "    <tr>\n",
       "      <th>northwest</th>\n",
       "      <td>318.0</td>\n",
       "      <td>2.940543e-19</td>\n",
       "    </tr>\n",
       "    <tr>\n",
       "      <th>northeast</th>\n",
       "      <td>320.0</td>\n",
       "      <td>3.557877e-17</td>\n",
       "    </tr>\n",
       "  </tbody>\n",
       "</table>\n",
       "</div>"
      ],
      "text/plain": [
       "               n             p\n",
       "southwest  317.0  7.728611e-22\n",
       "southeast  362.0  1.936990e-13\n",
       "northwest  318.0  2.940543e-19\n",
       "northeast  320.0  3.557877e-17"
      ]
     },
     "execution_count": 43,
     "metadata": {},
     "output_type": "execute_result"
    }
   ],
   "source": [
    "# create dataframe from normality test results\n",
    "pd.DataFrame(results).T"
   ]
  },
  {
   "cell_type": "code",
   "execution_count": 44,
   "id": "49d8b2cd",
   "metadata": {},
   "outputs": [
    {
     "data": {
      "text/html": [
       "<div>\n",
       "<style scoped>\n",
       "    .dataframe tbody tr th:only-of-type {\n",
       "        vertical-align: middle;\n",
       "    }\n",
       "\n",
       "    .dataframe tbody tr th {\n",
       "        vertical-align: top;\n",
       "    }\n",
       "\n",
       "    .dataframe thead th {\n",
       "        text-align: right;\n",
       "    }\n",
       "</style>\n",
       "<table border=\"1\" class=\"dataframe\">\n",
       "  <thead>\n",
       "    <tr style=\"text-align: right;\">\n",
       "      <th></th>\n",
       "      <th>n</th>\n",
       "      <th>p</th>\n",
       "      <th>sig?</th>\n",
       "    </tr>\n",
       "  </thead>\n",
       "  <tbody>\n",
       "    <tr>\n",
       "      <th>southwest</th>\n",
       "      <td>317.0</td>\n",
       "      <td>7.728611e-22</td>\n",
       "      <td>True</td>\n",
       "    </tr>\n",
       "    <tr>\n",
       "      <th>southeast</th>\n",
       "      <td>362.0</td>\n",
       "      <td>1.936990e-13</td>\n",
       "      <td>True</td>\n",
       "    </tr>\n",
       "    <tr>\n",
       "      <th>northwest</th>\n",
       "      <td>318.0</td>\n",
       "      <td>2.940543e-19</td>\n",
       "      <td>True</td>\n",
       "    </tr>\n",
       "    <tr>\n",
       "      <th>northeast</th>\n",
       "      <td>320.0</td>\n",
       "      <td>3.557877e-17</td>\n",
       "      <td>True</td>\n",
       "    </tr>\n",
       "  </tbody>\n",
       "</table>\n",
       "</div>"
      ],
      "text/plain": [
       "               n             p  sig?\n",
       "southwest  317.0  7.728611e-22  True\n",
       "southeast  362.0  1.936990e-13  True\n",
       "northwest  318.0  2.940543e-19  True\n",
       "northeast  320.0  3.557877e-17  True"
      ]
     },
     "execution_count": 44,
     "metadata": {},
     "output_type": "execute_result"
    }
   ],
   "source": [
    "# add whether there is significant different between each region p values and n values\n",
    "normality_df = pd.DataFrame(results).T\n",
    "normality_df['sig?'] = normality_df['p'] < 0.05\n",
    "normality_df"
   ]
  },
  {
   "cell_type": "code",
   "execution_count": 46,
   "id": "e9b7ccba",
   "metadata": {},
   "outputs": [
    {
     "name": "stdout",
     "output_type": "stream",
     "text": [
      "9.518349004554441 3.2035503711783993e-06\n",
      "The groups DO NOT have equal variance\n"
     ]
    }
   ],
   "source": [
    "# test groups for equal variance\n",
    "statistic, pvalue = stats.levene(*groups.values())\n",
    "print(statistic, pvalue)\n",
    "if pvalue < 0.05:\n",
    "    print('The groups DO NOT have equal variance')\n",
    "else:\n",
    "    print('The groups DO have equal variance')"
   ]
  },
  {
   "cell_type": "code",
   "execution_count": 47,
   "id": "f1b6462c",
   "metadata": {},
   "outputs": [
    {
     "name": "stdout",
     "output_type": "stream",
     "text": [
      "6.914045702545643 0.07468847911322242\n"
     ]
    }
   ],
   "source": [
    "# final results hypothesis with a Kruskal test\n",
    "statistic, pvalue = stats.kruskal(*groups.values())\n",
    "print(statistic, pvalue)"
   ]
  },
  {
   "cell_type": "markdown",
   "id": "501b19a1",
   "metadata": {},
   "source": [
    "The p-value is **greater than 0.05**, so we fail to reject the Null Hypothesis.\n",
    "\n",
    "**Null Hypothesis**: No charge difference based on regions."
   ]
  }
 ],
 "metadata": {
  "kernelspec": {
   "display_name": "Python (dojo-env)",
   "language": "python",
   "name": "dojo-env"
  },
  "language_info": {
   "codemirror_mode": {
    "name": "ipython",
    "version": 3
   },
   "file_extension": ".py",
   "mimetype": "text/x-python",
   "name": "python",
   "nbconvert_exporter": "python",
   "pygments_lexer": "ipython3",
   "version": "3.9.15"
  },
  "toc": {
   "base_numbering": 1,
   "nav_menu": {},
   "number_sections": false,
   "sideBar": true,
   "skip_h1_title": false,
   "title_cell": "Table of Contents",
   "title_sidebar": "Contents",
   "toc_cell": false,
   "toc_position": {
    "height": "calc(100% - 180px)",
    "left": "10px",
    "top": "150px",
    "width": "172px"
   },
   "toc_section_display": true,
   "toc_window_display": false
  }
 },
 "nbformat": 4,
 "nbformat_minor": 5
}
